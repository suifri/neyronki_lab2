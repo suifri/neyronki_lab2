{
  "nbformat": 4,
  "nbformat_minor": 0,
  "metadata": {
    "colab": {
      "provenance": [],
      "gpuType": "T4"
    },
    "kernelspec": {
      "name": "python3",
      "display_name": "Python 3"
    },
    "language_info": {
      "name": "python"
    },
    "accelerator": "GPU"
  },
  "cells": [
    {
      "cell_type": "markdown",
      "source": [
        "#   Лабораторна робота № 2."
      ],
      "metadata": {
        "id": "NJTkrwet0UFk"
      }
    },
    {
      "cell_type": "markdown",
      "source": [
        "**Мета заняття** -вивчити та практично освоїти програмну нейронну мережу для розпізнавання рукописних цифр з бази їх зображень MNIST при використанні повнозв’язних нейронних шарів, дослідити вплив параметрів нейронної мережі на результати її роботи, розвинути навики використання програмно-апаратного середовища Google Colab для побудови та дослідження нейронних мереж."
      ],
      "metadata": {
        "id": "l7ykaJGM77GL"
      }
    },
    {
      "cell_type": "markdown",
      "source": [
        "**Нижче наведений базовий текст програми для нейронної мережі розпізнавання рукописних цифр з результатами її роботи, який розглядався в лабораторній роботі 1 лише як приклад для запуску в середовищі Google Colab.**"
      ],
      "metadata": {
        "id": "zsJeiFo4xzlT"
      }
    },
    {
      "cell_type": "markdown",
      "source": [
        "**Імпортування бібліотек**"
      ],
      "metadata": {
        "id": "ROHwxkaI4S3y"
      }
    },
    {
      "cell_type": "code",
      "source": [
        "# MNIST Розпізнавання рукописних цифр\n",
        "#Імпортування бібліотек\n",
        "import keras\n",
        "from keras.datasets import mnist\n",
        "import sys\n",
        "import numpy"
      ],
      "metadata": {
        "id": "WZlfuF4D4Rta"
      },
      "execution_count": null,
      "outputs": []
    },
    {
      "cell_type": "markdown",
      "source": [
        "**Зчитування даних і вивід на екран**"
      ],
      "metadata": {
        "id": "zpMJYGfP4VmZ"
      }
    },
    {
      "cell_type": "code",
      "source": [
        "# Усунення виводу даних на екран при їх зчитуванні\n",
        "temp = sys.stdout\n",
        "sys.stdout = open('log.txt','a')\n",
        "(train_images, train_labels), (test_images, test_labels)=mnist.load_data()\n",
        "sys.stdout.close()\n",
        "sys.stdout = temp\n",
        "\n",
        "\n",
        "# train_images - зображення для навчання\n",
        "# train_labels - мітки зображень для навчання (значення цифр)\n",
        "# test_images - тестові зображення\n",
        "# test_labels - мітки тестових зображень\n",
        "# Вивід на екран\n",
        "print(train_images.ndim) # Розмірність зображень для навчання\n",
        "print(train_images.dtype) # Тип даних зображень\n",
        "print(train_images.shape) # Формат зображень для навчання\n",
        "print(len(train_labels)) # Розмір масиву міток для навчання\n",
        "\n",
        "\n",
        "# Встановлення режиму можливості повного виводу на екран великих масивів\n",
        "numpy.set_printoptions(threshold=sys.maxsize)\n",
        "\n",
        "\n",
        "# Вивід на екран\n",
        "print(test_images.shape) # Формат тестових зображень\n",
        "print(len(test_labels)) # Розмір масиву міток для тестових зображень\n",
        "\n",
        "\n",
        "# Вибір зображення цифри з номером 4 та вивід на екран його числових даних\n",
        "digit =train_images[4]\n",
        "print(digit)\n",
        "\n",
        "\n",
        "# Імпорт біблітеки графіки та вивід зображення на екран\n",
        "import matplotlib.pyplot as plt\n",
        "plt.imshow(digit,cmap=plt.cm.binary)\n",
        "plt.show()"
      ],
      "metadata": {
        "colab": {
          "base_uri": "https://localhost:8080/",
          "height": 1000
        },
        "id": "mD1BNzNB4fbL",
        "outputId": "969b8d91-b108-48de-a3d7-0bb6b1f0f491"
      },
      "execution_count": null,
      "outputs": [
        {
          "output_type": "stream",
          "name": "stdout",
          "text": [
            "3\n",
            "uint8\n",
            "(60000, 28, 28)\n",
            "60000\n",
            "(10000, 28, 28)\n",
            "10000\n",
            "[[  0   0   0   0   0   0   0   0   0   0   0   0   0   0   0   0   0   0\n",
            "    0   0   0   0   0   0   0   0   0   0]\n",
            " [  0   0   0   0   0   0   0   0   0   0   0   0   0   0   0   0   0   0\n",
            "    0   0   0   0   0   0   0   0   0   0]\n",
            " [  0   0   0   0   0   0   0   0   0   0   0   0   0   0   0   0   0   0\n",
            "    0   0   0   0   0   0   0   0   0   0]\n",
            " [  0   0   0   0   0   0   0   0   0   0   0   0   0   0   0   0   0   0\n",
            "    0   0   0   0   0   0   0   0   0   0]\n",
            " [  0   0   0   0   0   0   0   0   0   0   0   0   0   0   0   0   0   0\n",
            "    0   0   0   0   0   0   0   0   0   0]\n",
            " [  0   0   0   0   0   0   0   0   0   0   0   0   0   0   0   0   0   0\n",
            "    0   0   0   0   0   0   0   0   0   0]\n",
            " [  0   0   0   0   0   0   0   0   0   0   0   0   0   0   0   0   0   0\n",
            "    0   0   0   0   0   0   0   0   0   0]\n",
            " [  0   0   0   0   0   0   0   0   0   0   0   0  55 148 210 253 253 113\n",
            "   87 148  55   0   0   0   0   0   0   0]\n",
            " [  0   0   0   0   0   0   0   0   0   0   0  87 232 252 253 189 210 252\n",
            "  252 253 168   0   0   0   0   0   0   0]\n",
            " [  0   0   0   0   0   0   0   0   0   4  57 242 252 190  65   5  12 182\n",
            "  252 253 116   0   0   0   0   0   0   0]\n",
            " [  0   0   0   0   0   0   0   0   0  96 252 252 183  14   0   0  92 252\n",
            "  252 225  21   0   0   0   0   0   0   0]\n",
            " [  0   0   0   0   0   0   0   0 132 253 252 146  14   0   0   0 215 252\n",
            "  252  79   0   0   0   0   0   0   0   0]\n",
            " [  0   0   0   0   0   0   0 126 253 247 176   9   0   0   8  78 245 253\n",
            "  129   0   0   0   0   0   0   0   0   0]\n",
            " [  0   0   0   0   0   0  16 232 252 176   0   0   0  36 201 252 252 169\n",
            "   11   0   0   0   0   0   0   0   0   0]\n",
            " [  0   0   0   0   0   0  22 252 252  30  22 119 197 241 253 252 251  77\n",
            "    0   0   0   0   0   0   0   0   0   0]\n",
            " [  0   0   0   0   0   0  16 231 252 253 252 252 252 226 227 252 231   0\n",
            "    0   0   0   0   0   0   0   0   0   0]\n",
            " [  0   0   0   0   0   0   0  55 235 253 217 138  42  24 192 252 143   0\n",
            "    0   0   0   0   0   0   0   0   0   0]\n",
            " [  0   0   0   0   0   0   0   0   0   0   0   0   0  62 255 253 109   0\n",
            "    0   0   0   0   0   0   0   0   0   0]\n",
            " [  0   0   0   0   0   0   0   0   0   0   0   0   0  71 253 252  21   0\n",
            "    0   0   0   0   0   0   0   0   0   0]\n",
            " [  0   0   0   0   0   0   0   0   0   0   0   0   0   0 253 252  21   0\n",
            "    0   0   0   0   0   0   0   0   0   0]\n",
            " [  0   0   0   0   0   0   0   0   0   0   0   0   0  71 253 252  21   0\n",
            "    0   0   0   0   0   0   0   0   0   0]\n",
            " [  0   0   0   0   0   0   0   0   0   0   0   0   0 106 253 252  21   0\n",
            "    0   0   0   0   0   0   0   0   0   0]\n",
            " [  0   0   0   0   0   0   0   0   0   0   0   0   0  45 255 253  21   0\n",
            "    0   0   0   0   0   0   0   0   0   0]\n",
            " [  0   0   0   0   0   0   0   0   0   0   0   0   0   0 218 252  56   0\n",
            "    0   0   0   0   0   0   0   0   0   0]\n",
            " [  0   0   0   0   0   0   0   0   0   0   0   0   0   0  96 252 189  42\n",
            "    0   0   0   0   0   0   0   0   0   0]\n",
            " [  0   0   0   0   0   0   0   0   0   0   0   0   0   0  14 184 252 170\n",
            "   11   0   0   0   0   0   0   0   0   0]\n",
            " [  0   0   0   0   0   0   0   0   0   0   0   0   0   0   0  14 147 252\n",
            "   42   0   0   0   0   0   0   0   0   0]\n",
            " [  0   0   0   0   0   0   0   0   0   0   0   0   0   0   0   0   0   0\n",
            "    0   0   0   0   0   0   0   0   0   0]]\n"
          ]
        },
        {
          "output_type": "display_data",
          "data": {
            "text/plain": [
              "<Figure size 640x480 with 1 Axes>"
            ],
            "image/png": "[encoded data removed]"
          },
          "metadata": {}
        }
      ]
    },
    {
      "cell_type": "markdown",
      "source": [
        "**Створення і компіляція нейронної мережі**"
      ],
      "metadata": {
        "id": "E5i6Wk7w41E0"
      }
    },
    {
      "cell_type": "code",
      "source": [
        "# Імпортування бібліотеки моделей структур нейронної мережі та бібліотеки шарів\n",
        "from keras import models\n",
        "from keras import layers\n",
        "\n",
        "\n",
        "# Послідовна структура шарів нейронної мережі\n",
        "network = models.Sequential()\n",
        "# Два щільні шари нейронної мережі з відповідною кількістю нейронів та функціями активації\n",
        "network.add(layers.Dense(512, activation='relu', input_shape=(28 * 28,)))\n",
        "network.add(layers.Dense(10, activation='softmax'))\n",
        "print(network.summary())\n",
        "# Метод та параметри оптимізації при навчанні\n",
        "network.compile(optimizer='rmsprop',\n",
        "                loss='categorical_crossentropy',\n",
        "                metrics=['accuracy'])"
      ],
      "metadata": {
        "colab": {
          "base_uri": "https://localhost:8080/",
          "height": 256
        },
        "id": "xXNr2rKM41Tk",
        "outputId": "bee8eccb-2eb2-4b05-c67f-977160edd2d9"
      },
      "execution_count": null,
      "outputs": [
        {
          "output_type": "stream",
          "name": "stderr",
          "text": [
            "/usr/local/lib/python3.10/dist-packages/keras/src/layers/core/dense.py:87: UserWarning: Do not pass an `input_shape`/`input_dim` argument to a layer. When using Sequential models, prefer using an `Input(shape)` object as the first layer in the model instead.\n",
            "  super().__init__(activity_regularizer=activity_regularizer, **kwargs)\n"
          ]
        },
        {
          "output_type": "display_data",
          "data": {
            "text/plain": [
              "\u001b[1mModel: \"sequential\"\u001b[0m\n"
            ],
            "text/html": [
              "<pre style=\"white-space:pre;overflow-x:auto;line-height:normal;font-family:Menlo,'DejaVu Sans Mono',consolas,'Courier New',monospace\"><span style=\"font-weight: bold\">Model: \"sequential\"</span>\n",
              "</pre>\n"
            ]
          },
          "metadata": {}
        },
        {
          "output_type": "display_data",
          "data": {
            "text/plain": [
              "┏━━━━━━━━━━━━━━━━━━━━━━━━━━━━━━━━━━━━━━┳━━━━━━━━━━━━━━━━━━━━━━━━━━━━━┳━━━━━━━━━━━━━━━━━┓\n",
              "┃\u001b[1m \u001b[0m\u001b[1mLayer (type)                        \u001b[0m\u001b[1m \u001b[0m┃\u001b[1m \u001b[0m\u001b[1mOutput Shape               \u001b[0m\u001b[1m \u001b[0m┃\u001b[1m \u001b[0m\u001b[1m        Param #\u001b[0m\u001b[1m \u001b[0m┃\n",
              "┡━━━━━━━━━━━━━━━━━━━━━━━━━━━━━━━━━━━━━━╇━━━━━━━━━━━━━━━━━━━━━━━━━━━━━╇━━━━━━━━━━━━━━━━━┩\n",
              "│ dense (\u001b[38;5;33mDense\u001b[0m)                        │ (\u001b[38;5;45mNone\u001b[0m, \u001b[38;5;34m512\u001b[0m)                 │         \u001b[38;5;34m401,920\u001b[0m │\n",
              "├──────────────────────────────────────┼─────────────────────────────┼─────────────────┤\n",
              "│ dense_1 (\u001b[38;5;33mDense\u001b[0m)                      │ (\u001b[38;5;45mNone\u001b[0m, \u001b[38;5;34m10\u001b[0m)                  │           \u001b[38;5;34m5,130\u001b[0m │\n",
              "└──────────────────────────────────────┴─────────────────────────────┴─────────────────┘\n"
            ],
            "text/html": [
              "<pre style=\"white-space:pre;overflow-x:auto;line-height:normal;font-family:Menlo,'DejaVu Sans Mono',consolas,'Courier New',monospace\">┏━━━━━━━━━━━━━━━━━━━━━━━━━━━━━━━━━━━━━━┳━━━━━━━━━━━━━━━━━━━━━━━━━━━━━┳━━━━━━━━━━━━━━━━━┓\n",
              "┃<span style=\"font-weight: bold\"> Layer (type)                         </span>┃<span style=\"font-weight: bold\"> Output Shape                </span>┃<span style=\"font-weight: bold\">         Param # </span>┃\n",
              "┡━━━━━━━━━━━━━━━━━━━━━━━━━━━━━━━━━━━━━━╇━━━━━━━━━━━━━━━━━━━━━━━━━━━━━╇━━━━━━━━━━━━━━━━━┩\n",
              "│ dense (<span style=\"color: #0087ff; text-decoration-color: #0087ff\">Dense</span>)                        │ (<span style=\"color: #00d7ff; text-decoration-color: #00d7ff\">None</span>, <span style=\"color: #00af00; text-decoration-color: #00af00\">512</span>)                 │         <span style=\"color: #00af00; text-decoration-color: #00af00\">401,920</span> │\n",
              "├──────────────────────────────────────┼─────────────────────────────┼─────────────────┤\n",
              "│ dense_1 (<span style=\"color: #0087ff; text-decoration-color: #0087ff\">Dense</span>)                      │ (<span style=\"color: #00d7ff; text-decoration-color: #00d7ff\">None</span>, <span style=\"color: #00af00; text-decoration-color: #00af00\">10</span>)                  │           <span style=\"color: #00af00; text-decoration-color: #00af00\">5,130</span> │\n",
              "└──────────────────────────────────────┴─────────────────────────────┴─────────────────┘\n",
              "</pre>\n"
            ]
          },
          "metadata": {}
        },
        {
          "output_type": "display_data",
          "data": {
            "text/plain": [
              "\u001b[1m Total params: \u001b[0m\u001b[38;5;34m407,050\u001b[0m (1.55 MB)\n"
            ],
            "text/html": [
              "<pre style=\"white-space:pre;overflow-x:auto;line-height:normal;font-family:Menlo,'DejaVu Sans Mono',consolas,'Courier New',monospace\"><span style=\"font-weight: bold\"> Total params: </span><span style=\"color: #00af00; text-decoration-color: #00af00\">407,050</span> (1.55 MB)\n",
              "</pre>\n"
            ]
          },
          "metadata": {}
        },
        {
          "output_type": "display_data",
          "data": {
            "text/plain": [
              "\u001b[1m Trainable params: \u001b[0m\u001b[38;5;34m407,050\u001b[0m (1.55 MB)\n"
            ],
            "text/html": [
              "<pre style=\"white-space:pre;overflow-x:auto;line-height:normal;font-family:Menlo,'DejaVu Sans Mono',consolas,'Courier New',monospace\"><span style=\"font-weight: bold\"> Trainable params: </span><span style=\"color: #00af00; text-decoration-color: #00af00\">407,050</span> (1.55 MB)\n",
              "</pre>\n"
            ]
          },
          "metadata": {}
        },
        {
          "output_type": "display_data",
          "data": {
            "text/plain": [
              "\u001b[1m Non-trainable params: \u001b[0m\u001b[38;5;34m0\u001b[0m (0.00 B)\n"
            ],
            "text/html": [
              "<pre style=\"white-space:pre;overflow-x:auto;line-height:normal;font-family:Menlo,'DejaVu Sans Mono',consolas,'Courier New',monospace\"><span style=\"font-weight: bold\"> Non-trainable params: </span><span style=\"color: #00af00; text-decoration-color: #00af00\">0</span> (0.00 B)\n",
              "</pre>\n"
            ]
          },
          "metadata": {}
        },
        {
          "output_type": "stream",
          "name": "stdout",
          "text": [
            "None\n"
          ]
        }
      ]
    },
    {
      "cell_type": "markdown",
      "source": [
        "**Зміна формату даних зображень для навчання і тестування. Зміна формату міток**"
      ],
      "metadata": {
        "id": "sT-a266vWuQJ"
      }
    },
    {
      "cell_type": "code",
      "source": [
        "# Зміна формату даних зображень для навчання\n",
        "train_images = train_images.reshape((60000, 28 * 28))\n",
        "train_images = train_images.astype('float32') / 255\n",
        "\n",
        "# Зміна формату даних тестових зображень\n",
        "test_images = test_images.reshape((10000, 28 * 28))\n",
        "test_images = test_images.astype('float32') / 255\n",
        "\n",
        "\n",
        "# Зміна формату міток (1 у відповідній позиції, решта нулі)\n",
        "from tensorflow.keras.utils import to_categorical\n",
        "#from keras.utils import to_categorical\n",
        "train_labels = to_categorical(train_labels)\n",
        "test_labels = to_categorical(test_labels)"
      ],
      "metadata": {
        "id": "qklIfRdyWSzi"
      },
      "execution_count": null,
      "outputs": []
    },
    {
      "cell_type": "markdown",
      "source": [
        "**Навчання нейронної мережі. Визначення похибок та точності розпізнавання для тестових і навчальних зображень**"
      ],
      "metadata": {
        "id": "OJ9lcDTa4-yq"
      }
    },
    {
      "cell_type": "code",
      "source": [
        "# Навчання нейронної мережі\n",
        "temp = sys.stdout\n",
        "sys.stdout = open('log.txt','a')\n",
        "history = network.fit(train_images, train_labels, epochs=10, batch_size=4096, validation_data=(test_images, test_labels),validation_steps=50)\n",
        "\n",
        "\n",
        "\n",
        "\n",
        "# Визначення похибок та точності розпізнавання для зображень навчання\n",
        "(train_loss, train_acc) = network.evaluate(train_images, train_labels)\n",
        "sys.stdout.close()\n",
        "sys.stdout = temp\n",
        "print(train_loss)\n",
        "print(train_acc)\n",
        "\n",
        "\n",
        "\n",
        "\n",
        "# Визначення похибок та точності розпізнавання для тестових зображень\n",
        "temp = sys.stdout\n",
        "sys.stdout = open('log.txt','a')\n",
        "(test_loss, test_acc) = network.evaluate(test_images, test_labels)\n",
        "sys. stdout.close()\n",
        "sys.stdout = temp\n",
        "print(test_loss)\n",
        "print(test_acc)"
      ],
      "metadata": {
        "id": "UPnqIbS74_Da",
        "colab": {
          "base_uri": "https://localhost:8080/"
        },
        "outputId": "b46972d8-bc65-4905-a26e-0337aacd6f3a"
      },
      "execution_count": null,
      "outputs": [
        {
          "output_type": "stream",
          "name": "stderr",
          "text": [
            "/usr/lib/python3.10/contextlib.py:153: UserWarning: Your input ran out of data; interrupting training. Make sure that your dataset or generator can generate at least `steps_per_epoch * epochs` batches. You may need to use the `.repeat()` function when building your dataset.\n",
            "  self.gen.throw(typ, value, traceback)\n"
          ]
        },
        {
          "output_type": "stream",
          "name": "stdout",
          "text": [
            "0.15982115268707275\n",
            "0.9558500051498413\n",
            "0.16201920807361603\n",
            "0.9538000226020813\n"
          ]
        }
      ]
    },
    {
      "cell_type": "markdown",
      "source": [
        "**Побудова графіки зміни точності та похибки в процесі навчання.**"
      ],
      "metadata": {
        "id": "KB92Iknl5Jh-"
      }
    },
    {
      "cell_type": "code",
      "source": [
        "import matplotlib.pyplot as plt\n",
        "\n",
        "\n",
        "acc = history.history['accuracy']\n",
        "val_acc = history.history['val_accuracy']\n",
        "loss = history.history['loss']\n",
        "val_loss = history.history['val_loss']\n",
        "\n",
        "\n",
        "epochs = range(1, len(acc) + 1)\n",
        "plt.plot(epochs, acc, 'bo', label='Training acc')\n",
        "plt.plot(epochs, val_acc, 'b', label='Validation acc')\n",
        "plt.title('Training and validation accuracy')\n",
        "plt.legend()\n",
        "\n",
        "\n",
        "plt.figure()\n",
        "\n",
        "\n",
        "plt.plot(epochs, loss, 'bo', label='Training loss')\n",
        "plt.plot(epochs, val_loss, 'b', label='Validation loss')\n",
        "plt.title('Training and validation loss')\n",
        "plt.legend()\n",
        "\n",
        "\n",
        "plt.show()"
      ],
      "metadata": {
        "colab": {
          "base_uri": "https://localhost:8080/",
          "height": 887
        },
        "id": "DQePcopt5JrD",
        "outputId": "b69fc280-ea83-4d86-8891-1779263e1cbc"
      },
      "execution_count": null,
      "outputs": [
        {
          "output_type": "display_data",
          "data": {
            "text/plain": [
              "<Figure size 640x480 with 1 Axes>"
            ],
            "image/png": "[encoded data removed]"
          },
          "metadata": {}
        },
        {
          "output_type": "display_data",
          "data": {
            "text/plain": [
              "<Figure size 640x480 with 1 Axes>"
            ],
            "image/png": "[encoded data removed]"
          },
          "metadata": {}
        }
      ]
    },
    {
      "cell_type": "markdown",
      "source": [
        "**Лабораторне завдання**\n",
        "\n",
        "1. Запустити в середовищі Google Colab наведену базову програму розпізнавання рукописних цифр в базі MNIST. Зафіксувати результати: втрати та точність мережі на навчальних та тестових зображеннях.\n",
        "\n",
        "2. Побудувати графіки зміни точності та похибки в процесі навчання. Проаналізувати результати.\n",
        "\n",
        "3. Змінити в сторону збільшення та зменшення кількість нейронів у прихованому шарі та проаналізувати зміни у результатах навчання та функціонування нейронної мережі.\n",
        "\n",
        "4. Додати ще один повнозв’язний прихований шар нейронів з вибраною їх кількістю та проаналізувати зміни у результатах навчання та функціонування нейронної мережі.\n",
        "\n",
        "5. Замінити функцію оптимізатора на Adam та проаналізувати зміни у результатах навчання та функціонування нейронної мережі.\n",
        "\n",
        "6. Змінити розмір пакету batch_size та проаналізувати зміни у результатах навчання та функціонування нейронної мережі.\n",
        "\n",
        "7. Зменшити розмір масиву зображень для навчання та проаналізувати зміни у результатах навчання та функціонування нейронної мережі.\n",
        "\n",
        "8. Змінити функцію активації нейронів у прихованому шарі та проаналізувати зміни у результатах навчання та функціонування нейронної мережі.\n"
      ],
      "metadata": {
        "id": "HqMXhB5RgIg1"
      }
    },
    {
      "cell_type": "code",
      "source": [],
      "metadata": {
        "id": "TtghgRdGfBgn"
      },
      "execution_count": null,
      "outputs": []
    }
  ]
}